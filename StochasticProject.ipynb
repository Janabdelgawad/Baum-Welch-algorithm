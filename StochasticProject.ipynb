{
 "cells": [
  {
   "cell_type": "code",
   "execution_count": 3,
   "id": "579cd398-63b2-4899-9e18-15f877dbf760",
   "metadata": {},
   "outputs": [],
   "source": [
    "# Import necessary libraries\n",
    "import numpy as np\n",
    "from scipy.special import logsumexp"
   ]
  },
  {
   "cell_type": "code",
   "execution_count": 4,
   "id": "410152c4-31dc-4c74-9a25-87fc201f2276",
   "metadata": {},
   "outputs": [],
   "source": [
    "# Define the Baum-Welch algorithm\n",
    "\n",
    "# Function to compute the forward probabilities\n",
    "def forward(A, B, pi, observations):\n",
    "    N = A.shape[0]  # Number of hidden states\n",
    "    T = len(observations)  # Length of the observation sequence\n",
    "    alpha = np.zeros((T, N))\n",
    "    \n",
    "    # Initialize alpha for t=0\n",
    "    alpha[0, :] = pi * B[:, observations[0]]\n",
    "    \n",
    "    # Compute alpha values for t=1 to T-1\n",
    "    for t in range(1, T):\n",
    "        for j in range(N):\n",
    "            alpha[t, j] = np.sum(alpha[t-1] * A[:, j]) * B[j, observations[t]]\n",
    "    \n",
    "    return alpha"
   ]
  },
  {
   "cell_type": "code",
   "execution_count": 5,
   "id": "6c4d119b-fe96-4bc3-8a78-7e2026d8f884",
   "metadata": {},
   "outputs": [],
   "source": [
    "# Function to compute the backward probabilities\n",
    "def backward(A, B, observations):\n",
    "    N = A.shape[0]  # Number of hidden states\n",
    "    T = len(observations)  # Length of the observation sequence\n",
    "    beta = np.zeros((T, N))\n",
    "    \n",
    "    # Initialize beta for t=T-1\n",
    "    beta[-1, :] = 1\n",
    "    \n",
    "    # Compute beta values for t=T-2 to 0\n",
    "    for t in range(T-2, -1, -1):\n",
    "        for i in range(N):\n",
    "            beta[t, i] = np.sum(A[i, :] * B[:, observations[t+1]] * beta[t+1, :])\n",
    "    \n",
    "    return beta\n"
   ]
  },
  {
   "cell_type": "code",
   "execution_count": 6,
   "id": "32f1cd62-0932-4672-aa97-8ee57bfd2802",
   "metadata": {},
   "outputs": [],
   "source": [
    "# Function to compute the Baum-Welch algorithm\n",
    "def baum_welch(A, B, pi, observations, n_iter=10):\n",
    "    N = A.shape[0]  # Number of hidden states\n",
    "    M = B.shape[1]  # Number of observation symbols\n",
    "    T = len(observations)  # Length of the observation sequence\n",
    "    \n",
    "    for _ in range(n_iter):\n",
    "        # E-step: Compute forward and backward probabilities\n",
    "        alpha = forward(A, B, pi, observations)\n",
    "        beta = backward(A, B, observations)\n",
    "        \n",
    "        # Compute gamma and xi\n",
    "        gamma = np.zeros((T, N))\n",
    "        xi = np.zeros((T-1, N, N))\n",
    "        \n",
    "        # Compute gamma\n",
    "        denom = np.sum(alpha[-1, :])\n",
    "        for t in range(T):\n",
    "            gamma[t, :] = alpha[t, :] * beta[t, :] / denom\n",
    "        \n",
    "        # Compute xi\n",
    "        for t in range(T-1):\n",
    "            denom = np.sum(alpha[t, :] * A * B[:, observations[t+1]] * beta[t+1, :])\n",
    "            for i in range(N):\n",
    "                xi[t, i, :] = (alpha[t, i] * A[i, :] * B[:, observations[t+1]] * beta[t+1, :]) / denom\n",
    "        \n",
    "        # M-step: Update the parameters\n",
    "        pi = gamma[0, :]\n",
    "        A = np.sum(xi, axis=0) / np.sum(gamma[:-1, :], axis=0)[:, None]\n",
    "        B = np.zeros((N, M))\n",
    "        for j in range(M):\n",
    "            mask = (observations == j)\n",
    "            B[:, j] = np.sum(gamma[mask, :], axis=0) / np.sum(gamma, axis=0)\n",
    "    \n",
    "    return A, B, pi"
   ]
  },
  {
   "cell_type": "code",
   "execution_count": 7,
   "id": "6f96629c-1a78-478e-8bd9-f21409827ae8",
   "metadata": {},
   "outputs": [],
   "source": [
    "# Define initial parameters\n",
    "N = 2  # Number of hidden states\n",
    "M = 2  # Number of observation symbols\n",
    "\n",
    "# Initial state probabilities (pi)\n",
    "pi = np.array([0.5, 0.5])\n",
    "\n",
    "# Transition probabilities (A)\n",
    "A = np.array([[0.7, 0.3],\n",
    "              [0.4, 0.6]])\n",
    "\n",
    "# Emission probabilities (B)\n",
    "B = np.array([[0.9, 0.1],\n",
    "              [0.2, 0.8]])\n",
    "\n",
    "# Observed sequence: Umbrella (0), No Umbrella (1)\n",
    "observations = np.array([0, 1, 0, 0, 1])\n",
    "\n",
    "# Run Baum-Welch algorithm\n",
    "A_est, B_est, pi_est = baum_welch(A, B, pi, observations)\n"
   ]
  },
  {
   "cell_type": "code",
   "execution_count": 8,
   "id": "be73109a-bc66-42c6-b888-d8026b14b33d",
   "metadata": {},
   "outputs": [
    {
     "name": "stdout",
     "output_type": "stream",
     "text": [
      "Estimated Initial State Probabilities (π):\n",
      "[1.0000000e+000 9.1917645e-107]\n",
      "\n",
      "Estimated Transition Probabilities (A):\n",
      "[[1.76232783e-01 5.44311780e+33]\n",
      " [2.72234931e+00 3.16799028e-34]]\n",
      "\n",
      "Estimated Emission Probabilities (B):\n",
      "[[1.00000000e+00 2.04131373e-35]\n",
      " [7.36630343e-35 1.00000000e+00]]\n"
     ]
    }
   ],
   "source": [
    "# Print the results\n",
    "print(\"Estimated Initial State Probabilities (π):\")\n",
    "print(pi_est)\n",
    "\n",
    "print(\"\\nEstimated Transition Probabilities (A):\")\n",
    "print(A_est)\n",
    "\n",
    "print(\"\\nEstimated Emission Probabilities (B):\")\n",
    "print(B_est)\n"
   ]
  }
 ],
 "metadata": {
  "kernelspec": {
   "display_name": "Python 3 (ipykernel)",
   "language": "python",
   "name": "python3"
  },
  "language_info": {
   "codemirror_mode": {
    "name": "ipython",
    "version": 3
   },
   "file_extension": ".py",
   "mimetype": "text/x-python",
   "name": "python",
   "nbconvert_exporter": "python",
   "pygments_lexer": "ipython3",
   "version": "3.11.7"
  }
 },
 "nbformat": 4,
 "nbformat_minor": 5
}
